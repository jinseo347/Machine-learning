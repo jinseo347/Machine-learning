{
 "cells": [
  {
   "cell_type": "markdown",
   "id": "a695756c-3855-440f-9d6b-0d1c2dcc1400",
   "metadata": {},
   "source": [
    "### 12월 15일(목)\n",
    "- 커리큘럼: 파이썬 기반의 머신러닝 이해와 실습 - 벡터의 정의와 연산, 행렬의 정의와 연산\n",
    "- Gini Index로 Decision Tree 그리기.\n",
    "- Continous descriptive feature 활용하여 Decision tree 그리기\n",
    "- Regression tree와 Variation의 이해"
   ]
  },
  {
   "cell_type": "markdown",
   "id": "34265956-74d4-4b75-960a-9ef408e7778e",
   "metadata": {},
   "source": [
    "### Gini Index로 Decision Tree 그리기\n",
    "\n",
    "1. 원래 dataset의 Gini Index 구하기.\n",
    "2. 각 descriptive feature의 Gini Index 구하기.\n",
    "3. 가중치 계산해서 원래 dataset의 Gini Index에서 빼기: information gain\n",
    "4. information gain이 가장 큰 descriptive feature 선택하여 분기.\n",
    "5. 분기 이후 남은 dataset에 대해서도 같은 과정 반복\n"
   ]
  },
  {
   "cell_type": "markdown",
   "id": "540e1bcc-6773-4dca-9083-e31f59337a90",
   "metadata": {},
   "source": [
    "참고\n",
    "- Entropy에서 데이터가 2개의 클래스로 동일한 양으로 있는 경우 Entropy 1\n",
    "- Gini Index: 1-(1/k)\n",
    "    - 4개의 클래스의 데이터가 각각 같은 갯수로 들어가 있으면 1-(1/4)"
   ]
  },
  {
   "cell_type": "markdown",
   "id": "f5e1eea0-13ae-4d2d-869c-bd03e508bfd2",
   "metadata": {},
   "source": [
    "#### Root node의 선택\n",
    "- Root node의 선택에 따라 Decision Tree의 깊이와 모양이 달라짐.\n",
    "- 어떠한 Metric을 이용하느냐가 크게 영향을 미침.\n",
    "- Tree의 모양 뿐 아니라 이후 데이터의 예측값도 달라진다.\n",
    "- 그려진 tree중 어떤 모양이 효율적인지는 아직 모름.\n",
    "    - Machine learning을 할때는 데이터를 2로 나눔\n",
    "    - 학습데이터: 테스트데이터 = 0.75:0.25\n",
    "    - Test set을 넣어서 확인하면 Accuracy가 다르게 나옴.\n",
    "    \n",
    "#### 비어있는 leaf node\n",
    "- leaf node가 비어있으면 parent node를 확인하여 다수(majority)를 차지하는 것으로 추정한다."
   ]
  },
  {
   "cell_type": "markdown",
   "id": "17e4d9b3-27c4-40e6-8d73-70bb73e8ae05",
   "metadata": {},
   "source": [
    "#### Continous descriptive feature\n",
    "P.56\n",
    "- 현재까지는 Target feature도 descriptive feature도 categorical feature였음. \n",
    "- continous feature\n",
    "    - 구간을 나눌수 있음. \n",
    "    - 연속적임\n",
    "    - ex) '키'\n",
    "- continous descriptive feature\n",
    "    - 내림차순이든 오름차순이든 정렬\n",
    "    - Target feature들을 살펴서 level이 다른 instance들이 인접해 있을때 그 사이를 threshold로 나눔.\n",
    "- Eleveation이 continous descriptive feature\n",
    "    - Elevation 기준으로 sorting.\n",
    "    - Vegetation의 Target feature가 바뀌는 지점 확인\n",
    "    - 해당하는 지점들을 threshold\n",
    "    - threshold: 기준점을 만들어 놓는 것. 클래스가 바뀌는 지점이 후보화.\n",
    "    - 바뀌는 곳의 평균값을 threshold로 잡음.\n",
    "    - 이 threshold를 각각의 descriptive feature로 선택.\n",
    "    - 아직 어디서 분기하는 것이 가장 좋은지 모르므로 IG 계산.\n",
    "    - stream의 IG/slope IG/Elevation Threshold의 각 IG"
   ]
  },
  {
   "cell_type": "markdown",
   "id": "1f48392c-9e58-475f-8f88-c5579de8298b",
   "metadata": {},
   "source": [
    "Q. 그다음 분기를 할때는 elevation은 한번 사용한 descriptive feature이므로 다시 사용을 안하는지, 아니면 다른 threshold는 사용 가능한지? 못할 것 같긴한데...\n",
    "- 아님. 사용가능"
   ]
  },
  {
   "cell_type": "code",
   "execution_count": 2,
   "id": "44775192-ceb7-407f-9c1e-c0926862af07",
   "metadata": {},
   "outputs": [],
   "source": [
    "import numpy as np"
   ]
  },
  {
   "cell_type": "code",
   "execution_count": 3,
   "id": "adb7814b-7e49-4af0-a374-1e316272b737",
   "metadata": {},
   "outputs": [],
   "source": [
    "#전체 Entropy\n",
    "H=-2/7*np.log2(2/7)-3/7*np.log2(3/7)-2/7*np.log2(2/7)"
   ]
  },
  {
   "cell_type": "code",
   "execution_count": 10,
   "id": "7cc3ae7e-b54f-4583-a83c-5414eb0a6cb2",
   "metadata": {},
   "outputs": [
    {
     "data": {
      "text/plain": [
       "0.30595849286804166"
      ]
     },
     "execution_count": 10,
     "metadata": {},
     "output_type": "execute_result"
    }
   ],
   "source": [
    "# Stream\n",
    "t=-2/4*np.log2(2/4)-(1/4*np.log2(1/4))*2\n",
    "f=-1/3*np.log2(1/3)-(2/3)*np.log2(2/3)\n",
    "Hs=t*4/7+f*3/7\n",
    "H-Hs"
   ]
  },
  {
   "cell_type": "code",
   "execution_count": 13,
   "id": "4e59dc33-b7f1-4af0-9557-2bbf566455cc",
   "metadata": {},
   "outputs": [
    {
     "data": {
      "text/plain": [
       "0.5774062828523451"
      ]
     },
     "execution_count": 13,
     "metadata": {},
     "output_type": "execute_result"
    }
   ],
   "source": [
    "# Slope\n",
    "f=0\n",
    "m=0\n",
    "s=-3/5*np.log2(3/5)-(1/5*np.log2(1/5))*2\n",
    "Hsl=f*1/7+m*1/7+s*5/7\n",
    "H-Hsl"
   ]
  },
  {
   "cell_type": "code",
   "execution_count": 1,
   "id": "63f959b0-73ca-40ff-a0b9-b9c8a39277d8",
   "metadata": {},
   "outputs": [],
   "source": [
    "import numpy as np"
   ]
  },
  {
   "cell_type": "code",
   "execution_count": 6,
   "id": "741d7e05-848e-43df-a699-b304c6552a2c",
   "metadata": {},
   "outputs": [
    {
     "data": {
      "text/plain": [
       "0.3059584928680419"
      ]
     },
     "execution_count": 6,
     "metadata": {},
     "output_type": "execute_result"
    }
   ],
   "source": [
    "#Elevation 750 분기\n",
    "a=0\n",
    "b=-(3/6*np.log2(3/6))-1/6*np.log2(1/6)-2/6*np.log2(2/6)\n",
    "H1=a*(1/7)+b*(6/7)\n",
    "H-H1"
   ]
  },
  {
   "cell_type": "code",
   "execution_count": 7,
   "id": "eef574d7-fce9-4fb7-8d2c-beb2d1b82feb",
   "metadata": {},
   "outputs": [
    {
     "data": {
      "text/plain": [
       "0.18385092540042125"
      ]
     },
     "execution_count": 7,
     "metadata": {},
     "output_type": "execute_result"
    }
   ],
   "source": [
    "#Elevation 1350 분기\n",
    "a=1\n",
    "b=-2/5*np.log2(2/5)-2/5*np.log2(2/5)-1/5*np.log2(1/5)\n",
    "H2=a*2/7+b*5/7\n",
    "H-H2"
   ]
  },
  {
   "cell_type": "code",
   "execution_count": 8,
   "id": "6c9ea409-168f-45df-a139-7c82adef9d66",
   "metadata": {},
   "outputs": [
    {
     "data": {
      "text/plain": [
       "0.5916727785823273"
      ]
     },
     "execution_count": 8,
     "metadata": {},
     "output_type": "execute_result"
    }
   ],
   "source": [
    "#Elevation 2250 분기\n",
    "a=-2/3*np.log2(2/3)-1/3*np.log2(1/3)\n",
    "b=1\n",
    "H3=a*3/7+b*4/7\n",
    "H-H3"
   ]
  },
  {
   "cell_type": "code",
   "execution_count": 15,
   "id": "7aabe4bc-9060-4ff3-8871-0c67bb15dc43",
   "metadata": {},
   "outputs": [
    {
     "data": {
      "text/plain": [
       "0.8631205685666309"
      ]
     },
     "execution_count": 15,
     "metadata": {},
     "output_type": "execute_result"
    }
   ],
   "source": [
    "#Elevation 4157 분기\n",
    "a=-2/5*np.log2(2/5)-3/5*np.log2(3/5)\n",
    "b=0\n",
    "H4=a*5/7+b*2/7\n",
    "H-H4"
   ]
  },
  {
   "cell_type": "code",
   "execution_count": 19,
   "id": "23876e14-0da0-48cc-a1d6-f3b9d442bca9",
   "metadata": {},
   "outputs": [],
   "source": [
    "#분기 이후 dataset Entropy\n",
    "HE=-2/5*np.log2(2/5)-3/5*np.log2(3/5)"
   ]
  },
  {
   "cell_type": "code",
   "execution_count": 20,
   "id": "c6307952-83de-477c-8be9-7d4f288c3544",
   "metadata": {},
   "outputs": [
    {
     "data": {
      "text/plain": [
       "0.4199730940219748"
      ]
     },
     "execution_count": 20,
     "metadata": {},
     "output_type": "execute_result"
    }
   ],
   "source": [
    "# 분기 이후 stream\n",
    "t=-2/3*np.log2(2/3)-1/3*np.log2(1/3)\n",
    "f=0\n",
    "Hs=t*3/5+f*2/5\n",
    "HE-Hs"
   ]
  },
  {
   "cell_type": "code",
   "execution_count": 21,
   "id": "3babce30-dcda-48a9-8920-013c0721c569",
   "metadata": {},
   "outputs": [
    {
     "data": {
      "text/plain": [
       "0.3219280948873623"
      ]
     },
     "execution_count": 21,
     "metadata": {},
     "output_type": "execute_result"
    }
   ],
   "source": [
    "# 분기 이후 slope\n",
    "f=0\n",
    "m=0\n",
    "s=-3/4*np.log2(3/4)-1/4*np.log2(1/4)\n",
    "Hsl=m*1/5+s*4/5\n",
    "HE-Hsl"
   ]
  },
  {
   "cell_type": "code",
   "execution_count": 22,
   "id": "f37d1779-024e-4873-8afc-908ab9db8d02",
   "metadata": {},
   "outputs": [
    {
     "data": {
      "text/plain": [
       "0.3219280948873623"
      ]
     },
     "execution_count": 22,
     "metadata": {},
     "output_type": "execute_result"
    }
   ],
   "source": [
    "# Elevation 750\n",
    "a=0\n",
    "b=-3/4*np.log2(3/4)-1/4*np.log2(1/4)\n",
    "H1=a*1/5+b*4/5\n",
    "HE-H1"
   ]
  },
  {
   "cell_type": "code",
   "execution_count": 23,
   "id": "aa1aa59d-8a94-44f0-8acb-efd41dfd1d83",
   "metadata": {},
   "outputs": [
    {
     "data": {
      "text/plain": [
       "0.01997309402197478"
      ]
     },
     "execution_count": 23,
     "metadata": {},
     "output_type": "execute_result"
    }
   ],
   "source": [
    "# Elevation 1350\n",
    "a=1\n",
    "b=-1/3*np.log2(1/3)-2/3*np.log2(2/3)\n",
    "H2=a*2/5+b*3/5\n",
    "HE-H2"
   ]
  },
  {
   "cell_type": "code",
   "execution_count": 24,
   "id": "299fda0f-2508-4d30-a46a-61fdd5c3e790",
   "metadata": {},
   "outputs": [
    {
     "data": {
      "text/plain": [
       "0.4199730940219748"
      ]
     },
     "execution_count": 24,
     "metadata": {},
     "output_type": "execute_result"
    }
   ],
   "source": [
    "# Elevation 2250\n",
    "a=-2/3*np.log2(2/3)-1/3*np.log2(1/3)\n",
    "b=0\n",
    "H3=a*3/5+b*2/5\n",
    "HE-H3"
   ]
  },
  {
   "cell_type": "markdown",
   "id": "57bd9c01-dc89-4914-aaa9-47cc581017f0",
   "metadata": {},
   "source": []
  },
  {
   "cell_type": "code",
   "execution_count": 26,
   "id": "d0270ec2-2645-408a-9eb1-f6e887e72e7a",
   "metadata": {
    "jupyter": {
     "source_hidden": true
    },
    "tags": []
   },
   "outputs": [],
   "source": [
    "# Stream 분기 이후 전체 엔트로피\n",
    "HS=-2/3*np.log2(2/3)-1/3**np.log2(1/2)"
   ]
  },
  {
   "cell_type": "code",
   "execution_count": null,
   "id": "4eadcba5-cbf8-4fb6-a170-ac43c7ca2fb9",
   "metadata": {
    "jupyter": {
     "source_hidden": true
    },
    "tags": []
   },
   "outputs": [],
   "source": [
    "#Elevation 2250 분기 이후 전체 엔트로피\n",
    "HE1=-2/3*np.log2(2/3)-1/3**np.log2(1/2)"
   ]
  },
  {
   "cell_type": "markdown",
   "id": "05b946b6-1896-4ce6-bc02-be2eb6dc0fff",
   "metadata": {},
   "source": [
    "### Continous Target feature\n",
    "- categorical target feature와 목적이 달라짐. \n",
    "- Classification\n",
    "    - Class의 분류가 목적\n",
    "    - 최종 leaf node: class의 이름\n",
    "    - 불순도를 낮추는 방향으로 분기\n",
    "- Regression\n",
    "    - Regression이 목적\n",
    "    - 최종 leaf node: 도착한 데이터의 평균값\n",
    "    - 분산이 감소하는 방향으로 분기\n",
    "        - 분산(Variance): 편차 제곱의 평균\n",
    "            - (n-1)로 나누는 이유: 자유도\n",
    "                - 샘플집단의 분산은 모집단의 분산을 과소평가 한다.\n",
    "                - 평균은 전체 모집단의 평균에 수렴하다, 분산은 수렴하지 않음.\n",
    "                - 자유도: 통계에서 모집단의 평균은 알수 없음. 샘플집단의 평균은 알 수 있음.\n",
    "                - 샘플 집단의 평균을 알고, 샘플 데이터를 하나씩 넣었을 때 마지막 샘플은 내가 정할수가 없게 됨.\n",
    "                - 마지막 데이터 앞의 데이터들의 값에 의해 결정됨. 즉 자유도가 1 떨어진다?\n",
    "    - 다른 Matric과 마찬가지로 Weight/가중치 적용\n",
    "- Leaf node: 경향성이 비슷한 데이터들을 모으는 것"
   ]
  },
  {
   "cell_type": "markdown",
   "id": "e50bf94b-bc8f-4c30-9f4e-a518270a8d57",
   "metadata": {},
   "source": [
    "- p65\n",
    "- Overfitting: leaf node에 하나의 데이터. 분산 0\n",
    "- Underfitting: 훈련이 완료되지 않음. 분산이 큼. too large variance\n",
    "- 최종적으로 원하는 것(goldilocks): 비슷한애들끼리 뭉치도록 해주는 것. "
   ]
  }
 ],
 "metadata": {
  "kernelspec": {
   "display_name": "Python 3 (ipykernel)",
   "language": "python",
   "name": "python3"
  },
  "language_info": {
   "codemirror_mode": {
    "name": "ipython",
    "version": 3
   },
   "file_extension": ".py",
   "mimetype": "text/x-python",
   "name": "python",
   "nbconvert_exporter": "python",
   "pygments_lexer": "ipython3",
   "version": "3.10.3"
  }
 },
 "nbformat": 4,
 "nbformat_minor": 5
}
